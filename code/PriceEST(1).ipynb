{
  "cells": [
    {
      "cell_type": "markdown",
      "metadata": {
        "id": "yoaVQa39Qg-2"
      },
      "source": [
        "### Start from here\n"
      ]
    },
    {
      "cell_type": "code",
      "execution_count": 1,
      "metadata": {
        "id": "FsemivlgXABk"
      },
      "outputs": [],
      "source": [
        "import pandas as pd\n",
        "from sklearn.model_selection import train_test_split\n",
        "from sklearn.utils import shuffle\n",
        "from keras.models import Sequential\n",
        "from keras.layers import Dense\n",
        "from keras.optimizers import Adam\n",
        "from keras import backend as K\n",
        "import tensorflow as tf\n",
        "tf.keras.backend.set_floatx('float32')"
      ]
    },
    {
      "cell_type": "code",
      "execution_count": 2,
      "metadata": {
        "id": "NzylSfJqXB5k"
      },
      "outputs": [],
      "source": [
        "\n",
        "# Load the data\n",
        "data = pd.read_csv(\"C:\\\\Users\\\\Mohammad\\\\Desktop\\\\Uni\\\\Uni work\\\\Year 4\\\\Term 7, fall 2022\\\\CMPE 460 Deep Learning\\project\\\\CMPE-460-Project\\\\dataset\\\\car_price_prediction.csv\")\n",
        "\n",
        "\n",
        "# drop rows where the price is less than 100\n",
        "data = data[data['Price'] >= 100]\n",
        "data = data[~data['Model'].isin([\"GONOW\",\"IVECO DAYLY\"])]\n",
        "\n",
        "\n",
        "\n",
        "# Drop the totalPrice column\n",
        "data = data.drop('totalPrice', axis=1)\n",
        "data = data.drop('Wheel', axis=1)\n",
        "data = data.drop('no-tax', axis=1)\n",
        "data = data.drop('Engine volume', axis=1)\n",
        "\n",
        "data = data.drop(\"ID\", axis=1)\n",
        "\n",
        "data['Doors'] = data['Doors'].replace({'-May':'','-Mar':''}, regex=True)\n",
        "data['Doors'] = data['Doors'].str.replace('>5','5')\n",
        "\n",
        "# Drop rows with missing or empty values in the \"Doors\" column\n",
        "data = data[data['Doors'].str.strip() !='']\n",
        "data['Doors'] = data['Doors'].astype(int)\n",
        "\n",
        "data['Doors'] = data['Doors'].astype(int)\n",
        "\n",
        "# Gear box editing\n",
        "data['Gear box type'] = data['Gear box type'].replace({'Automatic': 1, 'Tiptronic': 2,'Variator':3, 'Manual':4})\n",
        "data = data[data['Gear box type'].isin([1,2,3,4])]\n",
        "\n",
        "data[\"Gear box type\"] = data[\"Gear box type\"].astype(int)\n",
        "\n",
        "# 'Automatic' is changed to 1\n",
        "# 'Tiptronic' is changed to 2\n",
        "# 'Variator' is changed to 3\n",
        "# 'Manual' is changed to 4\n",
        "\n",
        "\n",
        "# Replace values in the \"Leather interior\" column based on conditions\n",
        "data[\"Leather interior\"] = data[\"Leather interior\"].replace({\"Yes\": 1, \"No\": 0}) # Yes is 1; No is 0\n",
        "# keep the rows where the value of \"Leather interior\" is 0 or 1\n",
        "data = data[data[\"Leather interior\"].apply(lambda x: x in [0, 1])]\n",
        "\n",
        "\n",
        "# fuel type edit\n",
        "data[\"Fuel type\"] = data[\"Fuel type\"].replace({\"Hybrid\":1, \"Petrol\":2,\"Diesel\":3,\"CNG\":4,\"Plug-in Hybrid\":5,\"LPG\":6,\"Hydrogen\":7})\n",
        "allowed_fuel_types = [1, 2, 3, 4, 5, 6, 7]\n",
        "data = data[data[\"Fuel type\"].apply(lambda x: x in allowed_fuel_types)]\n",
        "\n",
        "# 'Hybrid' is changed to 1,\n",
        "# 'Petrol' is changed to 2, \n",
        "# 'Diesel' is changed to 3, \n",
        "# 'CNG' is changed to 4, \n",
        "# 'Plug-in Hybrid' is changed to 5, \n",
        "# 'LPG' is changed to 6,\n",
        "# 'Hydrogen' is changed to 7\n"
      ]
    },
    {
      "cell_type": "code",
      "execution_count": 3,
      "metadata": {
        "id": "y270nIi73Or1"
      },
      "outputs": [],
      "source": [
        "# Mapping\n",
        "\n",
        "data[\"Manufacturer\"] = data[\"Manufacturer\"].replace({\"LEXUS\":1, \"CHEVROLET\":2,\"GREATWALL\":3,\"HONDA\":4,\"FORD\":5,\"HYUNDAI\":6,\"TOYOTA\":7,\n",
        "                                                     \"MERCEDES-BENZ\":8, \"OPEL\":9,\"PORSCHE\":10,\"BMW\":11,\"JEEP\":12,\"VOLKSWAGEN\":13,\"AUDI\":14,\n",
        "                                                     \"RENAULT\":15, \"NISSAN\":16,\"SUBARU\":17,\"DAEWOO\":18,\"KIA\":19,\"MITSUBISHI\":20,\"SSANGYONG\":21,\n",
        "                                                     \"MAZDA\":22, \"GMC\":23,\"FIAT\":24,\"INFINITI\":25,\"ALFA ROMEO\":26,\"SUZUKI\":27,\"ACURA\":28,\n",
        "                                                     \"LINCOLN\":29, \"VAZ\":30,\"GAZ\":31,\"CITROEN\":32,\"LAND ROVER\":33,\"MINI\":34,\"DODGE\":35,\n",
        "                                                     \"CHRYSLER\":36, \"JAGUAR\":37,\"ISUZU\":38,\"SKODA\":39,\"DAIHATSU\":40,\"BUICK\":41,\"TESLA\":42,\n",
        "                                                     \"CADILLAC\":43, \"PEUGEOT\":44,\"BENTLEY\":45,\"VOLVO\":46,\"HAVAL\":47,\"HUMMER\":48,\"SCION\":49,\n",
        "                                                     \"UAZ\":50, \"MERCURY\":51,\"ZAZ\":52,\"ROVER\":53,\"SEAT\":54,\"LANCIA\":55,\"MOSKVICH\":56,\n",
        "                                                     \"MASERATI\":57, \"FERRARI\":58,\"SAAB\":59,\"LAMBORGHINI\":60,\"PONTIAC\":61,\"SATURN\":62,\"ASTON MARTIN\":63})\n"
      ]
    },
    {
      "cell_type": "code",
      "execution_count": 4,
      "metadata": {
        "id": "QDm5L0ceoDwP"
      },
      "outputs": [],
      "source": [
        "# Remove \"KM\"\n",
        "data[\"Mileage\"] = data[\"Mileage\"].str.replace(\"km\",\"\")\n",
        "data[\"Mileage\"] = data[\"Mileage\"].astype(float)"
      ]
    },
    {
      "cell_type": "code",
      "execution_count": 5,
      "metadata": {
        "id": "w69zpvwzBIOh"
      },
      "outputs": [],
      "source": [
        "data[\"Category\"] = data[\"Category\"].replace({\"Jeep\":1, \"Hatchback\":2,\"Sedan\":3,\"Microbus\":4,\"Goods wagon\":5,\"Universal\":6,\"Coupe\":7,\n",
        "                                             \"Minivan\":8, \"Cabriolet\":9,\"Limousine\":10,\"Pickup\":11})"
      ]
    },
    {
      "cell_type": "code",
      "execution_count": 6,
      "metadata": {
        "id": "FAqu17dBCMXJ"
      },
      "outputs": [],
      "source": [
        "# data[\"Color\"] = data[\"Color\"].replace({\"Silver\":1, \"Black\":2,\"White\":3,\"Grey\":4,\"Blue\":5,\"Green\":6,\"Red\":7,\n",
        "#                                                      \"Sky blue\":8, \"Orange\":9,\"Yellow\":10,\"Golden\":11,\"Beige\":12,\"Brown\":13,\"Carnelian red\":14,\n",
        "#                                                      \"Purple\":15, \"Pink\":16})\n",
        "\n",
        "# data = pd.get_dummies(data, columns=[\"Color\"])\n",
        "\n",
        "\n",
        "data = data.drop('Color', axis=1)"
      ]
    },
    {
      "cell_type": "code",
      "execution_count": 7,
      "metadata": {
        "id": "zQ8CH2hhDfBa"
      },
      "outputs": [],
      "source": [
        "data[\"Drive wheels\"] = data[\"Drive wheels\"].replace({\"4x4\":1, \"Front\":2,\"Rear\":3})"
      ]
    },
    {
      "cell_type": "code",
      "execution_count": 8,
      "metadata": {
        "id": "app2xqxfszs-"
      },
      "outputs": [],
      "source": [
        "from sklearn.preprocessing import LabelEncoder\n",
        "\n",
        "# Initialize the encoder\n",
        "encoder = LabelEncoder()\n",
        "\n",
        "# Fit the encoder on the \"Model\" feature\n",
        "encoder.fit(data[\"Model\"])\n",
        "\n",
        "# Transform the \"Model\" feature to numeric\n",
        "data[\"Model\"] = encoder.transform(data[\"Model\"])\n",
        "\n",
        "\n",
        "# Initialize the encoder\n",
        "encoder1 = LabelEncoder()\n",
        "\n",
        "# Fit the encoder on the \"Model\" feature\n",
        "encoder1.fit(data[\"Manufacturer\"])\n",
        "\n",
        "# Transform the \"Model\" feature to numeric\n",
        "data[\"Manufacturer\"] = encoder1.transform(data[\"Manufacturer\"])\n"
      ]
    },
    {
      "cell_type": "code",
      "execution_count": null,
      "metadata": {},
      "outputs": [],
      "source": []
    },
    {
      "cell_type": "code",
      "execution_count": 9,
      "metadata": {
        "id": "qO-FIha7A4e9"
      },
      "outputs": [],
      "source": [
        "# Cat_types = data[\"Manufacturer\"].unique()\n",
        "# p = 0\n",
        "# for c in Cat_types:\n",
        "#     p += 1  \n",
        "#     print(p,c)"
      ]
    },
    {
      "cell_type": "code",
      "execution_count": 10,
      "metadata": {
        "id": "7a5d314wl2Pu"
      },
      "outputs": [],
      "source": [
        "# # Assign each value of the \"Model\" column with the integer value of the corresponding \"Manufacturer\"\n",
        "# data[\"Model_enc\"] = data[\"Manufacturer\"]\n"
      ]
    },
    {
      "cell_type": "code",
      "execution_count": 11,
      "metadata": {
        "colab": {
          "base_uri": "https://localhost:8080/",
          "height": 424
        },
        "id": "gP1yYYHUHytI",
        "outputId": "a921a052-75e5-4feb-e6fb-2bb8c7ed87b9"
      },
      "outputs": [
        {
          "data": {
            "text/html": [
              "<div>\n",
              "<style scoped>\n",
              "    .dataframe tbody tr th:only-of-type {\n",
              "        vertical-align: middle;\n",
              "    }\n",
              "\n",
              "    .dataframe tbody tr th {\n",
              "        vertical-align: top;\n",
              "    }\n",
              "\n",
              "    .dataframe thead th {\n",
              "        text-align: right;\n",
              "    }\n",
              "</style>\n",
              "<table border=\"1\" class=\"dataframe\">\n",
              "  <thead>\n",
              "    <tr style=\"text-align: right;\">\n",
              "      <th></th>\n",
              "      <th>Manufacturer</th>\n",
              "      <th>Model</th>\n",
              "      <th>Prod. year</th>\n",
              "      <th>Category</th>\n",
              "      <th>Leather interior</th>\n",
              "      <th>Fuel type</th>\n",
              "      <th>Mileage</th>\n",
              "      <th>Cylinders</th>\n",
              "      <th>Gear box type</th>\n",
              "      <th>Drive wheels</th>\n",
              "      <th>Doors</th>\n",
              "      <th>Airbags</th>\n",
              "      <th>Price</th>\n",
              "    </tr>\n",
              "  </thead>\n",
              "  <tbody>\n",
              "    <tr>\n",
              "      <th>0</th>\n",
              "      <td>0</td>\n",
              "      <td>1228</td>\n",
              "      <td>2010</td>\n",
              "      <td>1</td>\n",
              "      <td>1</td>\n",
              "      <td>1</td>\n",
              "      <td>186005.0</td>\n",
              "      <td>6</td>\n",
              "      <td>1</td>\n",
              "      <td>1</td>\n",
              "      <td>4</td>\n",
              "      <td>12</td>\n",
              "      <td>14727</td>\n",
              "    </tr>\n",
              "    <tr>\n",
              "      <th>1</th>\n",
              "      <td>1</td>\n",
              "      <td>651</td>\n",
              "      <td>2011</td>\n",
              "      <td>1</td>\n",
              "      <td>0</td>\n",
              "      <td>2</td>\n",
              "      <td>192000.0</td>\n",
              "      <td>6</td>\n",
              "      <td>2</td>\n",
              "      <td>1</td>\n",
              "      <td>4</td>\n",
              "      <td>8</td>\n",
              "      <td>17639</td>\n",
              "    </tr>\n",
              "    <tr>\n",
              "      <th>2</th>\n",
              "      <td>3</td>\n",
              "      <td>677</td>\n",
              "      <td>2006</td>\n",
              "      <td>2</td>\n",
              "      <td>0</td>\n",
              "      <td>2</td>\n",
              "      <td>200000.0</td>\n",
              "      <td>4</td>\n",
              "      <td>3</td>\n",
              "      <td>2</td>\n",
              "      <td>4</td>\n",
              "      <td>2</td>\n",
              "      <td>8467</td>\n",
              "    </tr>\n",
              "    <tr>\n",
              "      <th>3</th>\n",
              "      <td>4</td>\n",
              "      <td>654</td>\n",
              "      <td>2011</td>\n",
              "      <td>1</td>\n",
              "      <td>1</td>\n",
              "      <td>1</td>\n",
              "      <td>168966.0</td>\n",
              "      <td>4</td>\n",
              "      <td>1</td>\n",
              "      <td>1</td>\n",
              "      <td>4</td>\n",
              "      <td>0</td>\n",
              "      <td>4469</td>\n",
              "    </tr>\n",
              "    <tr>\n",
              "      <th>4</th>\n",
              "      <td>3</td>\n",
              "      <td>677</td>\n",
              "      <td>2014</td>\n",
              "      <td>2</td>\n",
              "      <td>1</td>\n",
              "      <td>2</td>\n",
              "      <td>91901.0</td>\n",
              "      <td>4</td>\n",
              "      <td>1</td>\n",
              "      <td>2</td>\n",
              "      <td>4</td>\n",
              "      <td>4</td>\n",
              "      <td>12172</td>\n",
              "    </tr>\n",
              "    <tr>\n",
              "      <th>...</th>\n",
              "      <td>...</td>\n",
              "      <td>...</td>\n",
              "      <td>...</td>\n",
              "      <td>...</td>\n",
              "      <td>...</td>\n",
              "      <td>...</td>\n",
              "      <td>...</td>\n",
              "      <td>...</td>\n",
              "      <td>...</td>\n",
              "      <td>...</td>\n",
              "      <td>...</td>\n",
              "      <td>...</td>\n",
              "      <td>...</td>\n",
              "    </tr>\n",
              "    <tr>\n",
              "      <th>1138</th>\n",
              "      <td>11</td>\n",
              "      <td>491</td>\n",
              "      <td>2009</td>\n",
              "      <td>1</td>\n",
              "      <td>1</td>\n",
              "      <td>2</td>\n",
              "      <td>163866.0</td>\n",
              "      <td>4</td>\n",
              "      <td>1</td>\n",
              "      <td>2</td>\n",
              "      <td>4</td>\n",
              "      <td>4</td>\n",
              "      <td>16834</td>\n",
              "    </tr>\n",
              "    <tr>\n",
              "      <th>1139</th>\n",
              "      <td>6</td>\n",
              "      <td>431</td>\n",
              "      <td>2017</td>\n",
              "      <td>3</td>\n",
              "      <td>1</td>\n",
              "      <td>2</td>\n",
              "      <td>20877.0</td>\n",
              "      <td>4</td>\n",
              "      <td>1</td>\n",
              "      <td>2</td>\n",
              "      <td>4</td>\n",
              "      <td>12</td>\n",
              "      <td>1719</td>\n",
              "    </tr>\n",
              "    <tr>\n",
              "      <th>1140</th>\n",
              "      <td>4</td>\n",
              "      <td>735</td>\n",
              "      <td>2013</td>\n",
              "      <td>3</td>\n",
              "      <td>1</td>\n",
              "      <td>2</td>\n",
              "      <td>137000.0</td>\n",
              "      <td>4</td>\n",
              "      <td>2</td>\n",
              "      <td>2</td>\n",
              "      <td>4</td>\n",
              "      <td>12</td>\n",
              "      <td>21652</td>\n",
              "    </tr>\n",
              "    <tr>\n",
              "      <th>1142</th>\n",
              "      <td>16</td>\n",
              "      <td>1542</td>\n",
              "      <td>2013</td>\n",
              "      <td>1</td>\n",
              "      <td>1</td>\n",
              "      <td>1</td>\n",
              "      <td>800.0</td>\n",
              "      <td>6</td>\n",
              "      <td>1</td>\n",
              "      <td>1</td>\n",
              "      <td>4</td>\n",
              "      <td>6</td>\n",
              "      <td>23521</td>\n",
              "    </tr>\n",
              "    <tr>\n",
              "      <th>1143</th>\n",
              "      <td>6</td>\n",
              "      <td>258</td>\n",
              "      <td>2017</td>\n",
              "      <td>6</td>\n",
              "      <td>1</td>\n",
              "      <td>1</td>\n",
              "      <td>9027.0</td>\n",
              "      <td>4</td>\n",
              "      <td>1</td>\n",
              "      <td>2</td>\n",
              "      <td>4</td>\n",
              "      <td>4</td>\n",
              "      <td>54430</td>\n",
              "    </tr>\n",
              "  </tbody>\n",
              "</table>\n",
              "<p>1100 rows × 13 columns</p>\n",
              "</div>"
            ],
            "text/plain": [
              "      Manufacturer  Model  Prod. year  Category  Leather interior  Fuel type  \\\n",
              "0                0   1228        2010         1                 1          1   \n",
              "1                1    651        2011         1                 0          2   \n",
              "2                3    677        2006         2                 0          2   \n",
              "3                4    654        2011         1                 1          1   \n",
              "4                3    677        2014         2                 1          2   \n",
              "...            ...    ...         ...       ...               ...        ...   \n",
              "1138            11    491        2009         1                 1          2   \n",
              "1139             6    431        2017         3                 1          2   \n",
              "1140             4    735        2013         3                 1          2   \n",
              "1142            16   1542        2013         1                 1          1   \n",
              "1143             6    258        2017         6                 1          1   \n",
              "\n",
              "       Mileage  Cylinders  Gear box type  Drive wheels  Doors  Airbags  Price  \n",
              "0     186005.0          6              1             1      4       12  14727  \n",
              "1     192000.0          6              2             1      4        8  17639  \n",
              "2     200000.0          4              3             2      4        2   8467  \n",
              "3     168966.0          4              1             1      4        0   4469  \n",
              "4      91901.0          4              1             2      4        4  12172  \n",
              "...        ...        ...            ...           ...    ...      ...    ...  \n",
              "1138  163866.0          4              1             2      4        4  16834  \n",
              "1139   20877.0          4              1             2      4       12   1719  \n",
              "1140  137000.0          4              2             2      4       12  21652  \n",
              "1142     800.0          6              1             1      4        6  23521  \n",
              "1143    9027.0          4              1             2      4        4  54430  \n",
              "\n",
              "[1100 rows x 13 columns]"
            ]
          },
          "execution_count": 11,
          "metadata": {},
          "output_type": "execute_result"
        }
      ],
      "source": [
        "data.head(1100)"
      ]
    },
    {
      "cell_type": "code",
      "execution_count": 12,
      "metadata": {
        "colab": {
          "base_uri": "https://localhost:8080/"
        },
        "id": "9vPK1p5-W52O",
        "outputId": "40637d83-1339-4475-a565-cffe575a5527"
      },
      "outputs": [
        {
          "data": {
            "text/plain": [
              "Index(['Manufacturer', 'Model', 'Prod. year', 'Category', 'Leather interior',\n",
              "       'Fuel type', 'Mileage', 'Cylinders', 'Gear box type', 'Drive wheels',\n",
              "       'Doors', 'Airbags', 'Price'],\n",
              "      dtype='object')"
            ]
          },
          "execution_count": 12,
          "metadata": {},
          "output_type": "execute_result"
        }
      ],
      "source": [
        "data.columns\n"
      ]
    },
    {
      "cell_type": "code",
      "execution_count": 13,
      "metadata": {},
      "outputs": [
        {
          "ename": "NameError",
          "evalue": "name 'df' is not defined",
          "output_type": "error",
          "traceback": [
            "\u001b[1;31m---------------------------------------------------------------------------\u001b[0m",
            "\u001b[1;31mNameError\u001b[0m                                 Traceback (most recent call last)",
            "Cell \u001b[1;32mIn [13], line 4\u001b[0m\n\u001b[0;32m      1\u001b[0m \u001b[39mimport\u001b[39;00m \u001b[39mseaborn\u001b[39;00m \u001b[39mas\u001b[39;00m \u001b[39msns\u001b[39;00m\n\u001b[0;32m      2\u001b[0m \u001b[39mimport\u001b[39;00m \u001b[39mmatplotlib\u001b[39;00m\u001b[39m.\u001b[39;00m\u001b[39mpyplot\u001b[39;00m \u001b[39mas\u001b[39;00m \u001b[39mplt\u001b[39;00m\n\u001b[1;32m----> 4\u001b[0m corr \u001b[39m=\u001b[39m df\u001b[39m.\u001b[39mcorr()\n\u001b[0;32m      6\u001b[0m plt\u001b[39m.\u001b[39mfigure(figsize\u001b[39m=\u001b[39m(\u001b[39m20\u001b[39m,\u001b[39m15\u001b[39m))\n\u001b[0;32m      7\u001b[0m sns\u001b[39m.\u001b[39mheatmap(corr, annot\u001b[39m=\u001b[39m\u001b[39mTrue\u001b[39;00m, cmap\u001b[39m=\u001b[39m\u001b[39m'\u001b[39m\u001b[39mRdYlGn\u001b[39m\u001b[39m'\u001b[39m)\n",
            "\u001b[1;31mNameError\u001b[0m: name 'df' is not defined"
          ]
        }
      ],
      "source": [
        "import seaborn as sns\n",
        "import matplotlib.pyplot as plt\n",
        "\n",
        "corr = data.corr()\n",
        "\n",
        "plt.figure(figsize=(20,15))\n",
        "sns.heatmap(corr, annot=True, cmap='RdYlGn')"
      ]
    },
    {
      "cell_type": "code",
      "execution_count": null,
      "metadata": {
        "id": "Qv7kVLdn5cO7"
      },
      "outputs": [],
      "source": [
        "from keras.optimizers.optimizer_v2 import gradient_descent\n",
        "from sklearn.preprocessing import StandardScaler\n",
        "from sklearn.model_selection import train_test_split\n",
        "from keras.models import Sequential\n",
        "from keras.layers import Dense\n",
        "import tensorflow as tf\n",
        "from tensorflow import keras\n",
        "from sklearn.preprocessing import MinMaxScaler\n",
        "\n",
        "# Define the features and labels\n",
        "X = data.drop(\"Price\", axis=1)\n",
        "y = data[\"Price\"]\n",
        "\n",
        "# Normalize the data\n",
        "scaler = StandardScaler()\n",
        "X = scaler.fit_transform(X)\n",
        "\n",
        "from sklearn.preprocessing import QuantileTransformer\n",
        "scaler = QuantileTransformer(output_distribution='normal')\n",
        "y = scaler.fit_transform(y.values.reshape(-1, 1))\n",
        "\n",
        "\n",
        "# scaler = MinMaxScaler(feature_range=(0, 1))\n",
        "# y = scaler.fit_transform(y.values.reshape(-1, 1))\n",
        "\n",
        "\n",
        "\n",
        "\n",
        "# Split the data into training and test sets\n",
        "X_train, X_val_and_test, y_train, y_val_and_test = train_test_split(X, y, test_size=0.3, random_state=42)\n",
        "X_val, X_test, y_val, y_test = train_test_split(X_val_and_test, y_val_and_test, test_size=0.5, random_state=42)\n",
        "\n",
        "\n",
        "# # Normalizing \n",
        "# tf.keras.layers.Normalization(\n",
        "#     axis=-1, mean=None, variance=None, invert=False)\n",
        "\n",
        "\n",
        "# Define the model\n",
        "model = Sequential([\n",
        "    # keras.layers.Reshape(target_shape=(29 * 28,), input_shape=(28, 28)),\n",
        "    Dense(units=12, activation='relu'),\n",
        "    Dense(units=60, activation='softmax'),\n",
        "    Dense(units=120, activation='softmax'),\n",
        "    Dense(units=120, activation='softmax'),\n",
        "    Dense(units=60, activation='softmax'),\n",
        "    Dense(units=1, activation='linear')\n",
        "])\n",
        "\n",
        "# Compile the model\n",
        "from keras.optimizers import Adam\n",
        "optimizer = Adam(learning_rate=0.0001)\n",
        "model.compile(optimizer=optimizer, loss='mean_squared_error')\n",
        "\n",
        "# model.compile(optimizer='adam',loss='mean_squared_error')\n",
        "\n",
        "\n"
      ]
    },
    {
      "cell_type": "code",
      "execution_count": null,
      "metadata": {
        "colab": {
          "base_uri": "https://localhost:8080/"
        },
        "id": "QpJhfgP2DqHH",
        "outputId": "d6412a81-30af-49b4-f5c3-4c0d83c75fdc"
      },
      "outputs": [],
      "source": [
        "# y.mean()\n",
        "X.mean()\n",
        "# y.std()\n"
      ]
    },
    {
      "cell_type": "code",
      "execution_count": null,
      "metadata": {
        "id": "aP9EccQ0A4Af"
      },
      "outputs": [],
      "source": [
        "num_features = X_train\n",
        "print(num_features)"
      ]
    },
    {
      "cell_type": "code",
      "execution_count": null,
      "metadata": {
        "colab": {
          "base_uri": "https://localhost:8080/"
        },
        "id": "RJiYlXFZyVCX",
        "outputId": "4c0c44ba-df30-465c-adc6-589d858cc1b8"
      },
      "outputs": [],
      "source": [
        "model.build((12958, 12))\n",
        "print(model.summary())"
      ]
    },
    {
      "cell_type": "code",
      "execution_count": null,
      "metadata": {
        "id": "sIaA8LIC5cGQ"
      },
      "outputs": [],
      "source": [
        "# Train the model on the training data\n",
        "model.fit(X_train, y_train, epochs=100, batch_size=64, validation_data=(X_val, y_val))"
      ]
    }
  ],
  "metadata": {
    "colab": {
      "provenance": []
    },
    "kernelspec": {
      "display_name": "base",
      "language": "python",
      "name": "python3"
    },
    "language_info": {
      "codemirror_mode": {
        "name": "ipython",
        "version": 3
      },
      "file_extension": ".py",
      "mimetype": "text/x-python",
      "name": "python",
      "nbconvert_exporter": "python",
      "pygments_lexer": "ipython3",
      "version": "3.9.5"
    },
    "vscode": {
      "interpreter": {
        "hash": "6c9f7b56b6eaed5ab35fb81da6d8091ab253c1aaa5f9b473ba8a3e5f020fe6ee"
      }
    }
  },
  "nbformat": 4,
  "nbformat_minor": 0
}
