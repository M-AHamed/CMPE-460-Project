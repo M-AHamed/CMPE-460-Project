{
 "cells": [
  {
   "cell_type": "code",
   "execution_count": 1,
   "metadata": {},
   "outputs": [],
   "source": [
    "import pandas as pd\n",
    "from sklearn.model_selection import train_test_split\n",
    "from sklearn.utils import shuffle\n",
    "from keras.models import Sequential\n",
    "from keras.layers import Dense\n",
    "from keras.optimizers import Adam\n",
    "from keras import backend as K\n",
    "import tensorflow as tf\n",
    "import numpy as np\n",
    "import matplotlib.pyplot as plt\n",
    "from sklearn.model_selection import train_test_split\n",
    "from sklearn.preprocessing import StandardScaler\n",
    "import joblib\n",
    "from joblib import dump, load"
   ]
  },
  {
   "cell_type": "code",
   "execution_count": 2,
   "metadata": {},
   "outputs": [],
   "source": [
    "data = pd.read_csv(\"C:\\\\Users\\\\hp\\\\Desktop\\\\University\\\\CMPE 460\\\\Project_deep\\\\cars.csv\",encoding='iso-8859-1')"
   ]
  },
  {
   "cell_type": "code",
   "execution_count": 3,
   "metadata": {},
   "outputs": [],
   "source": [
    "# drop rows where the price is less than 500\n",
    "data = data[data['price'] >= 500]"
   ]
  },
  {
   "cell_type": "code",
   "execution_count": 4,
   "metadata": {},
   "outputs": [
    {
     "name": "stdout",
     "output_type": "stream",
     "text": [
      "No missing values.\n"
     ]
    }
   ],
   "source": [
    "def check_missing_values(dataframe):\n",
    "    missing_values = dataframe.isnull().any()\n",
    "    if missing_values.any():\n",
    "        print(\"Missing values in columns:\")\n",
    "        print(missing_values[missing_values==True])\n",
    "    else:\n",
    "        print(\"No missing values.\")\n",
    "\n",
    "check_missing_values(data)\n",
    "# data # Preview data"
   ]
  },
  {
   "cell_type": "code",
   "execution_count": 5,
   "metadata": {},
   "outputs": [],
   "source": [
    "if 'Manufacturer' in data.columns:\n",
    "    data = data.drop('Manufacturer', axis=1)\n",
    "else:\n",
    "    print(\"Manufacturer column not found\")\n",
    "\n",
    "if 'Model ' in data.columns:\n",
    "    data = data.drop('Model ', axis=1)\n",
    "else:\n",
    "    print(\"Model  column not found\")\n",
    "\n",
    "# data # Preview data\n",
    "# print(data)"
   ]
  },
  {
   "cell_type": "code",
   "execution_count": 6,
   "metadata": {},
   "outputs": [],
   "source": [
    "# Define the list of non numeric columns\n",
    "categorical_cols = ['symboling', 'Fuel type', 'aspiration', 'doornumber', 'Category', 'Drive wheels', 'enginelocation', 'enginetype', 'Cylinders', 'fuelsystem']\n",
    "\n",
    "def one_hot_encoding(data, categorical_cols):\n",
    "    # Create the main array with car_ID column\n",
    "    main_array = np.array(data['car_ID']).reshape(-1,1)\n",
    "    # Iterate through columns in the dataframe\n",
    "    for col in data.columns:\n",
    "        # Check if the column is in the list of categorical columns\n",
    "        if col in categorical_cols:\n",
    "            # Perform one-hot encoding on the column\n",
    "            temp = np.array(pd.get_dummies(data[col]))\n",
    "        else:\n",
    "            # Otherwise, reshape the column\n",
    "            temp = np.array(data[col]).reshape(-1,1)\n",
    "        # Stack the column with the main array    \n",
    "        main_array = np.hstack((main_array, temp))\n",
    "    # Remove the car_ID column    \n",
    "    main_array = main_array[:, 2:]\n",
    "    # Return main_array\n",
    "    return main_array\n",
    "\n",
    "main_array = one_hot_encoding(data, categorical_cols)\n",
    "# Display the array as a dataframe\n",
    "# pd.DataFrame(main_array)"
   ]
  },
  {
   "cell_type": "code",
   "execution_count": 7,
   "metadata": {},
   "outputs": [],
   "source": [
    "# Define the features and labels\n",
    "X = main_array[:, :-1]\n",
    "y = main_array[:, -1].reshape(-1, 1)"
   ]
  },
  {
   "cell_type": "code",
   "execution_count": 8,
   "metadata": {},
   "outputs": [],
   "source": [
    "# Function to check for numeric values\n",
    "def check_numeric_values(X):\n",
    "    for i, val in enumerate(X):\n",
    "        for j, value in enumerate(val):\n",
    "            if isinstance(value, str):\n",
    "                print(\"string value found in X at index [{}, {}]: {}\".format(i, j, value))\n",
    "\n",
    "check_numeric_values(X)"
   ]
  },
  {
   "cell_type": "code",
   "execution_count": 9,
   "metadata": {},
   "outputs": [],
   "source": [
    "xScaler = StandardScaler()\n",
    "yScaler = StandardScaler()\n",
    "\n",
    "X_scaled = xScaler.fit_transform(X)\n",
    "Y_scaled = yScaler.fit_transform(y)"
   ]
  },
  {
   "cell_type": "code",
   "execution_count": 10,
   "metadata": {},
   "outputs": [],
   "source": [
    "# print(\"Shape of X_data: {}\".format(X.shape))\n",
    "# print(\"Shape of y_data: {}\".format(y.shape))\n",
    "# print(\"==========X_data after rescaling===============\")\n",
    "# print(pd.DataFrame(X_scaled).head())\n",
    "# print(\"==========y_data after rescaling===============\")\n",
    "# print(Y_scaled.ravel())"
   ]
  },
  {
   "cell_type": "code",
   "execution_count": 11,
   "metadata": {},
   "outputs": [],
   "source": [
    "# Split data into training and test sets\n",
    "X_train, X_test, y_train, y_test = train_test_split(X_scaled, Y_scaled, test_size=0.1, random_state=42)\n",
    "# Split validation set from the training set\n",
    "X_train, X_val, y_train, y_val = train_test_split(X_train, y_train, test_size=0.1, random_state=42)\n",
    "\n",
    "# print(\"Shape of X_train: {}\".format(X_train.shape))\n",
    "# print(\"Shape of X_test: {}\".format(X_test.shape))\n",
    "# print(\"Shape of y_train: {}\".format(y_train.shape))\n",
    "# print(\"Shape of y_test: {}\".format(y_test.shape))"
   ]
  },
  {
   "cell_type": "code",
   "execution_count": 13,
   "metadata": {},
   "outputs": [
    {
     "name": "stdout",
     "output_type": "stream",
     "text": [
      "Model: \"sequential\"\n",
      "_________________________________________________________________\n",
      " Layer (type)                Output Shape              Param #   \n",
      "=================================================================\n",
      " dense (Dense)               (None, None, 57)          3306      \n",
      "                                                                 \n",
      " dense_1 (Dense)             (None, None, 29)          1682      \n",
      "                                                                 \n",
      " dense_2 (Dense)             (None, None, 14)          420       \n",
      "                                                                 \n",
      " dense_3 (Dense)             (None, None, 1)           15        \n",
      "                                                                 \n",
      "=================================================================\n",
      "Total params: 5,423\n",
      "Trainable params: 5,423\n",
      "Non-trainable params: 0\n",
      "_________________________________________________________________\n"
     ]
    }
   ],
   "source": [
    "# Building NN \n",
    "model = Sequential()\n",
    "model.add(Dense(57, activation='relu', input_shape=(None, 57)))\n",
    "model.add(Dense(29, activation='relu'))\n",
    "model.add(Dense(14, activation='relu'))\n",
    "model.add(Dense(1, activation='linear'))\n",
    "model.compile(optimizer='adam', loss='mse', metrics=['mae'])\n",
    "model.summary()"
   ]
  },
  {
   "cell_type": "code",
   "execution_count": 14,
   "metadata": {},
   "outputs": [
    {
     "name": "stdout",
     "output_type": "stream",
     "text": [
      "WARNING:tensorflow:Model was constructed with shape (None, None, 57) for input KerasTensor(type_spec=TensorSpec(shape=(None, None, 57), dtype=tf.float32, name='dense_input'), name='dense_input', description=\"created by layer 'dense_input'\"), but it was called on an input with incompatible shape (None, 57).\n",
      "WARNING:tensorflow:Model was constructed with shape (None, None, 57) for input KerasTensor(type_spec=TensorSpec(shape=(None, None, 57), dtype=tf.float32, name='dense_input'), name='dense_input', description=\"created by layer 'dense_input'\"), but it was called on an input with incompatible shape (None, 57).\n",
      "WARNING:tensorflow:Model was constructed with shape (None, None, 57) for input KerasTensor(type_spec=TensorSpec(shape=(None, None, 57), dtype=tf.float32, name='dense_input'), name='dense_input', description=\"created by layer 'dense_input'\"), but it was called on an input with incompatible shape (None, 57).\n"
     ]
    }
   ],
   "source": [
    "NN = model.fit(x=X_train, y=y_train, epochs=85, validation_data=(X_val, y_val), verbose=0)"
   ]
  },
  {
   "cell_type": "code",
   "execution_count": 15,
   "metadata": {},
   "outputs": [
    {
     "name": "stdout",
     "output_type": "stream",
     "text": [
      "dict_keys(['loss', 'mae', 'val_loss', 'val_mae'])\n"
     ]
    }
   ],
   "source": [
    "# print(NN.history.keys())"
   ]
  },
  {
   "cell_type": "code",
   "execution_count": 16,
   "metadata": {},
   "outputs": [
    {
     "data": {
      "image/png": "[encoded data removed]",
      "text/plain": [
       "<Figure size 432x288 with 1 Axes>"
      ]
     },
     "metadata": {
      "needs_background": "light"
     },
     "output_type": "display_data"
    }
   ],
   "source": [
    "# Plotting validation loss and train loss\n",
    "plt.plot(NN.history['loss'], label=\"train_loss\")\n",
    "plt.plot(NN.history['val_loss'], label=\"val_loss\")\n",
    "plt.legend()\n",
    "plt.show()"
   ]
  },
  {
   "cell_type": "code",
   "execution_count": 17,
   "metadata": {},
   "outputs": [
    {
     "name": "stdout",
     "output_type": "stream",
     "text": [
      "-------------------------------------------------------------------------------------------\n",
      "-------------------------------------------------------------------------------------------\n",
      "1/1 [==============================] - 0s 26ms/step - loss: 0.1287 - mae: 0.2661\n",
      "[0.12874862551689148, 0.2660987079143524]\n",
      "-------------------------------------------------------------------------------------------\n",
      "-------------------------------------------------------------------------------------------\n"
     ]
    }
   ],
   "source": [
    "# Evalutation of model accuracy \n",
    "print(\"-------------------------------------------------------------------------------------------\")\n",
    "print(\"-------------------------------------------------------------------------------------------\")\n",
    "\n",
    "print(model.evaluate(X_test, y_test))\n",
    "\n",
    "print(\"-------------------------------------------------------------------------------------------\")\n",
    "print(\"-------------------------------------------------------------------------------------------\")"
   ]
  },
  {
   "cell_type": "code",
   "execution_count": null,
   "metadata": {},
   "outputs": [],
   "source": [
    "import h5py\n",
    "model.save('my_model_22.h5')"
   ]
  },
  {
   "cell_type": "code",
   "execution_count": null,
   "metadata": {},
   "outputs": [],
   "source": [
    "joblib.dump(xScaler, \"xScaler22.pkl\")\n",
    "joblib.dump(yScaler, \"yScaler22.pkl\")"
   ]
  },
  {
   "attachments": {},
   "cell_type": "markdown",
   "metadata": {},
   "source": [
    "# Code by: Mohammed G. Nasseir, Mohammad Hamed.\n",
    "# ID: 119200029, 120200155"
   ]
  }
 ],
 "metadata": {
  "kernelspec": {
   "display_name": "Python 3",
   "language": "python",
   "name": "python3"
  },
  "language_info": {
   "codemirror_mode": {
    "name": "ipython",
    "version": 3
   },
   "file_extension": ".py",
   "mimetype": "text/x-python",
   "name": "python",
   "nbconvert_exporter": "python",
   "pygments_lexer": "ipython3",
   "version": "3.10.1"
  },
  "orig_nbformat": 4,
  "vscode": {
   "interpreter": {
    "hash": "63963b3f4c440940f0b94a3100916033a226cb4f45979123153792d60aa56d6a"
   }
  }
 },
 "nbformat": 4,
 "nbformat_minor": 2
}
